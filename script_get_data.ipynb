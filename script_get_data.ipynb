{
 "cells": [
  {
   "cell_type": "markdown",
   "id": "dense-breath",
   "metadata": {},
   "source": [
    "# Data download and basic preparation\n",
    "### Rodrigo Leo\n",
    "---"
   ]
  },
  {
   "cell_type": "markdown",
   "id": "printable-branch",
   "metadata": {},
   "source": [
    "This script uses the modified Yahoo! Finance api (through the `yfinance` library) to access and download historical data from selected markets. It also saves the original data (which consists on daily observations) and a copy of yearly observations as `.csv` files."
   ]
  },
  {
   "cell_type": "code",
   "execution_count": 10,
   "id": "cordless-bride",
   "metadata": {},
   "outputs": [],
   "source": [
    "# Import the required libraries\n",
    "import glob\n",
    "import os\n",
    "import pandas as pd\n",
    "import yfinance as yf"
   ]
  },
  {
   "cell_type": "markdown",
   "id": "palestinian-dutch",
   "metadata": {},
   "source": [
    "The selected market data to download is passed to the script via the `tickers` dictionary. The key of the dictionary is a descriptive name for the data (for example, `sp500`), and the value of the dictionary is the corresponding symbol used at the Yahoo! Finance website (for example, `^GSPC`). Both are `string`s."
   ]
  },
  {
   "cell_type": "code",
   "execution_count": 11,
   "id": "painted-particle",
   "metadata": {},
   "outputs": [],
   "source": [
    "# Dictionary of data to download\n",
    "tickers = {\n",
    "    'ftse100': '^FTSE',\n",
    "    'ni225':   '^N225',\n",
    "    'sp500':   '^GSPC'\n",
    "}"
   ]
  },
  {
   "cell_type": "markdown",
   "id": "annoying-brazilian",
   "metadata": {},
   "source": [
    "## Download data"
   ]
  },
  {
   "cell_type": "markdown",
   "id": "little-fellow",
   "metadata": {},
   "source": [
    "The original (daily) data is saved in a `downloads` folder as `name.csv`, where each value of `name` is a key of the dictionary `tickers`."
   ]
  },
  {
   "cell_type": "code",
   "execution_count": 15,
   "id": "fluid-brunswick",
   "metadata": {},
   "outputs": [],
   "source": [
    "results = {ticker: None for ticker in tickers}\n",
    "\n",
    "for ticker in tickers.keys():\n",
    "\n",
    "    # Download data\n",
    "    t = yf.Ticker(tickers[ticker]).history(period = 'max')\n",
    "    \n",
    "    # Keep only the closing price\n",
    "    t = pd.DataFrame(t['Close'])\n",
    "    \n",
    "    # Keep only the values up to 2020\n",
    "    t = t.query('Date <= \"2020-12-31\"')\n",
    "    \n",
    "    # Save the Data Frame to a .csv file\n",
    "    t.to_csv(f'downloads/{ticker}.csv')\n",
    "    \n",
    "    # Report number of results found\n",
    "    results[ticker] = len(t)"
   ]
  },
  {
   "cell_type": "code",
   "execution_count": 6,
   "id": "musical-poster",
   "metadata": {},
   "outputs": [
    {
     "name": "stdout",
     "output_type": "stream",
     "text": [
      "ftse100: 9415 observations found.\n",
      "ni225: 13772 observations found.\n",
      "sp500: 23362 observations found.\n"
     ]
    }
   ],
   "source": [
    "# Show number of observations for each ticker\n",
    "for ticker in results:\n",
    "    print(f'{ticker}: {str(results[ticker])} observations found.')"
   ]
  },
  {
   "cell_type": "markdown",
   "id": "constitutional-prairie",
   "metadata": {},
   "source": [
    "## Convert to yearly observations"
   ]
  },
  {
   "cell_type": "markdown",
   "id": "natural-grenada",
   "metadata": {},
   "source": [
    "A copy of yearly data is saved in a `downloads` folder as `name_yearly.csv`, where each value of `name` is a key of the dictionary `tickers`."
   ]
  },
  {
   "cell_type": "code",
   "execution_count": 101,
   "id": "lyric-fundamentals",
   "metadata": {},
   "outputs": [
    {
     "name": "stdout",
     "output_type": "stream",
     "text": [
      "downloads/ftse100.csv\n",
      "downloads/ni225.csv\n",
      "downloads/sp500.csv\n"
     ]
    }
   ],
   "source": [
    "# Get list of files\n",
    "files = glob.glob('downloads/*.csv')\n",
    "\n",
    "# Show the list of files\n",
    "for file in files:\n",
    "    print(file)"
   ]
  },
  {
   "cell_type": "code",
   "execution_count": 102,
   "id": "fifth-europe",
   "metadata": {},
   "outputs": [],
   "source": [
    "for file in files:\n",
    "    \n",
    "    # Get data name:\n",
    "    loc1 = file.find('/') + 1\n",
    "    loc2 = file.find('.')\n",
    "    name = file[loc1:loc2]\n",
    "    \n",
    "    #Load data\n",
    "    data = pd.read_csv(file)\n",
    "    \n",
    "    # Convert 'Date' column to Datetime type\n",
    "    data['Date'] = pd.to_datetime(data['Date'])\n",
    "    \n",
    "    # Create a list 'years' with the years available in the data\n",
    "    years = set([date.year for date in data['Date']])\n",
    "    years = list(years)\n",
    "    years.sort()\n",
    "    \n",
    "    # Set the column 'Date' as the index of the data frame\n",
    "    # This is required to use the .last() method\n",
    "    data = data.set_index('Date')\n",
    "    \n",
    "    # Loop through the years and extract the last day info\n",
    "    # Each will be stored in a Data Frame inside a list named ' last_data'\n",
    "    last_data = []\n",
    "\n",
    "    for year in years:\n",
    "        last = data.query(f'Date >= \"{year}-01-01\" and Date <= \"{year}-12-31\"').last(offset = '1D')\n",
    "        last_data.append(pd.DataFrame(last))\n",
    "\n",
    "    # Join the extracted data in a single Data Frame called ' closing'\n",
    "    closing = pd.concat(last_data)\n",
    "    \n",
    "    # Save the Data Frame in a .csv file\n",
    "    closing.to_csv(f'downloads/{name}_yearly.csv')"
   ]
  }
 ],
 "metadata": {
  "kernelspec": {
   "display_name": "Python 3",
   "language": "python",
   "name": "python3"
  },
  "language_info": {
   "codemirror_mode": {
    "name": "ipython",
    "version": 3
   },
   "file_extension": ".py",
   "mimetype": "text/x-python",
   "name": "python",
   "nbconvert_exporter": "python",
   "pygments_lexer": "ipython3",
   "version": "3.9.2"
  }
 },
 "nbformat": 4,
 "nbformat_minor": 5
}
