{
 "cells": [
  {
   "cell_type": "markdown",
   "id": "black-mineral",
   "metadata": {},
   "source": [
    "# Data aggregation: from daily to custom frequencies\n",
    "### Rodrigo Leo\n",
    "---"
   ]
  },
  {
   "cell_type": "markdown",
   "id": "hybrid-communist",
   "metadata": {},
   "source": [
    "This script aggregates daily data to fit custom frequencies."
   ]
  },
  {
   "cell_type": "code",
   "execution_count": 35,
   "id": "super-drill",
   "metadata": {},
   "outputs": [],
   "source": [
    "# Import the required libraries\n",
    "import numpy as np\n",
    "import pandas as pd"
   ]
  },
  {
   "cell_type": "code",
   "execution_count": 36,
   "id": "laughing-record",
   "metadata": {},
   "outputs": [
    {
     "data": {
      "text/html": [
       "<div>\n",
       "<style scoped>\n",
       "    .dataframe tbody tr th:only-of-type {\n",
       "        vertical-align: middle;\n",
       "    }\n",
       "\n",
       "    .dataframe tbody tr th {\n",
       "        vertical-align: top;\n",
       "    }\n",
       "\n",
       "    .dataframe thead th {\n",
       "        text-align: right;\n",
       "    }\n",
       "</style>\n",
       "<table border=\"1\" class=\"dataframe\">\n",
       "  <thead>\n",
       "    <tr style=\"text-align: right;\">\n",
       "      <th></th>\n",
       "      <th>observation</th>\n",
       "      <th>sp500_price</th>\n",
       "      <th>tbill</th>\n",
       "      <th>rpc_consumption</th>\n",
       "      <th>price</th>\n",
       "    </tr>\n",
       "    <tr>\n",
       "      <th>date</th>\n",
       "      <th></th>\n",
       "      <th></th>\n",
       "      <th></th>\n",
       "      <th></th>\n",
       "      <th></th>\n",
       "    </tr>\n",
       "  </thead>\n",
       "  <tbody>\n",
       "    <tr>\n",
       "      <th>1954-01-04</th>\n",
       "      <td>1</td>\n",
       "      <td>24.950001</td>\n",
       "      <td>1.33</td>\n",
       "      <td>27.716667</td>\n",
       "      <td>26.944839</td>\n",
       "    </tr>\n",
       "    <tr>\n",
       "      <th>1954-01-05</th>\n",
       "      <td>2</td>\n",
       "      <td>25.100000</td>\n",
       "      <td>1.28</td>\n",
       "      <td>27.716667</td>\n",
       "      <td>26.946452</td>\n",
       "    </tr>\n",
       "    <tr>\n",
       "      <th>1954-01-06</th>\n",
       "      <td>3</td>\n",
       "      <td>25.139999</td>\n",
       "      <td>1.28</td>\n",
       "      <td>27.716667</td>\n",
       "      <td>26.948065</td>\n",
       "    </tr>\n",
       "    <tr>\n",
       "      <th>1954-01-07</th>\n",
       "      <td>4</td>\n",
       "      <td>25.059999</td>\n",
       "      <td>1.31</td>\n",
       "      <td>27.716667</td>\n",
       "      <td>26.949677</td>\n",
       "    </tr>\n",
       "    <tr>\n",
       "      <th>1954-01-08</th>\n",
       "      <td>5</td>\n",
       "      <td>24.930000</td>\n",
       "      <td>1.31</td>\n",
       "      <td>27.716667</td>\n",
       "      <td>26.951290</td>\n",
       "    </tr>\n",
       "    <tr>\n",
       "      <th>...</th>\n",
       "      <td>...</td>\n",
       "      <td>...</td>\n",
       "      <td>...</td>\n",
       "      <td>...</td>\n",
       "      <td>...</td>\n",
       "    </tr>\n",
       "    <tr>\n",
       "      <th>2020-12-24</th>\n",
       "      <td>16684</td>\n",
       "      <td>3703.060059</td>\n",
       "      <td>0.09</td>\n",
       "      <td>107.067361</td>\n",
       "      <td>262.045300</td>\n",
       "    </tr>\n",
       "    <tr>\n",
       "      <th>2020-12-28</th>\n",
       "      <td>16685</td>\n",
       "      <td>3735.360107</td>\n",
       "      <td>0.11</td>\n",
       "      <td>107.067361</td>\n",
       "      <td>262.129700</td>\n",
       "    </tr>\n",
       "    <tr>\n",
       "      <th>2020-12-29</th>\n",
       "      <td>16686</td>\n",
       "      <td>3727.040039</td>\n",
       "      <td>0.10</td>\n",
       "      <td>107.067361</td>\n",
       "      <td>262.150800</td>\n",
       "    </tr>\n",
       "    <tr>\n",
       "      <th>2020-12-30</th>\n",
       "      <td>16687</td>\n",
       "      <td>3732.040039</td>\n",
       "      <td>0.08</td>\n",
       "      <td>107.067361</td>\n",
       "      <td>262.171900</td>\n",
       "    </tr>\n",
       "    <tr>\n",
       "      <th>2020-12-31</th>\n",
       "      <td>16688</td>\n",
       "      <td>3756.070068</td>\n",
       "      <td>0.09</td>\n",
       "      <td>107.067361</td>\n",
       "      <td>262.193000</td>\n",
       "    </tr>\n",
       "  </tbody>\n",
       "</table>\n",
       "<p>16688 rows × 5 columns</p>\n",
       "</div>"
      ],
      "text/plain": [
       "            observation  sp500_price  tbill  rpc_consumption       price\n",
       "date                                                                    \n",
       "1954-01-04            1    24.950001   1.33        27.716667   26.944839\n",
       "1954-01-05            2    25.100000   1.28        27.716667   26.946452\n",
       "1954-01-06            3    25.139999   1.28        27.716667   26.948065\n",
       "1954-01-07            4    25.059999   1.31        27.716667   26.949677\n",
       "1954-01-08            5    24.930000   1.31        27.716667   26.951290\n",
       "...                 ...          ...    ...              ...         ...\n",
       "2020-12-24        16684  3703.060059   0.09       107.067361  262.045300\n",
       "2020-12-28        16685  3735.360107   0.11       107.067361  262.129700\n",
       "2020-12-29        16686  3727.040039   0.10       107.067361  262.150800\n",
       "2020-12-30        16687  3732.040039   0.08       107.067361  262.171900\n",
       "2020-12-31        16688  3756.070068   0.09       107.067361  262.193000\n",
       "\n",
       "[16688 rows x 5 columns]"
      ]
     },
     "execution_count": 36,
     "metadata": {},
     "output_type": "execute_result"
    }
   ],
   "source": [
    "# Load data\n",
    "data = pd.read_excel('databases/data_usext.xlsx', engine = 'openpyxl')\n",
    "\n",
    "# Set the type of column 'date' to datetime\n",
    "data['date'] = pd.to_datetime(data['date'])\n",
    "\n",
    "# Set column 'date' as index\n",
    "data = data.set_index('date')\n",
    "\n",
    "# Show Data Frame\n",
    "data"
   ]
  },
  {
   "cell_type": "markdown",
   "id": "planned-stockholm",
   "metadata": {},
   "source": [
    "The frequencies to be obtained are passed to the script in a dictionary called `freq`, where the keys are `string`s that represent descriptive names of the frequency (for example, `monthly`) and the values are `int`s with the number of the corresponding observations for the period (for example, `30`)."
   ]
  },
  {
   "cell_type": "code",
   "execution_count": 37,
   "id": "supreme-mattress",
   "metadata": {},
   "outputs": [],
   "source": [
    "freq = {\n",
    "    'w': 7,\n",
    "    'f': 15,\n",
    "    'm': 30,\n",
    "    'q': 90,\n",
    "    's': 180,\n",
    "    'a': 360\n",
    "}"
   ]
  },
  {
   "cell_type": "code",
   "execution_count": 38,
   "id": "proof-pipeline",
   "metadata": {},
   "outputs": [],
   "source": [
    "results = {f: None for f in freq}\n",
    "\n",
    "for f in freq.keys():\n",
    "    \n",
    "    # Construct the periods\n",
    "    days = freq[f]\n",
    "    periods = []\n",
    "    i = 0\n",
    "    while True:\n",
    "        lim1 = days * i + 1\n",
    "        lim2 = lim1 + days - 1\n",
    "        if lim2 >= max(data['observation']):\n",
    "            break\n",
    "        else:\n",
    "            periods.append((lim1, lim2))\n",
    "            i = i + 1\n",
    "\n",
    "    # Aggregate data\n",
    "    aggregate_list = []\n",
    "    for period in periods:\n",
    "        sample = data.query(f'observation >= {period[0]} and observation <= {period[1]}')\n",
    "        aggregate = {\n",
    "            'date': sample.last(offset = '1D').index.to_pydatetime()[0],\n",
    "            'sp500_price': sample.last(offset = '1D')['sp500_price'].values[0],\n",
    "            'tbill': np.mean(sample['tbill']),\n",
    "            'rpc_consumption': np.sum(sample['rpc_consumption']),\n",
    "            'price': np.mean(sample['price'])\n",
    "        }\n",
    "        aggregate_list.append(aggregate)\n",
    "    \n",
    "    # Store the aggregated data in a Data Frame\n",
    "    results[f] = pd.DataFrame(aggregate_list)"
   ]
  },
  {
   "cell_type": "code",
   "execution_count": 39,
   "id": "nonprofit-abraham",
   "metadata": {},
   "outputs": [
    {
     "name": "stdout",
     "output_type": "stream",
     "text": [
      "w: 2383 observations\n",
      "f: 1112 observations\n",
      "m: 556 observations\n",
      "q: 185 observations\n",
      "s: 92 observations\n",
      "a: 46 observations\n"
     ]
    }
   ],
   "source": [
    "# Show the lenghts of the results\n",
    "for r in results.keys():\n",
    "    print(r + ': ' + str(len(results[r])) + ' observations')"
   ]
  },
  {
   "cell_type": "markdown",
   "id": "front-listing",
   "metadata": {},
   "source": [
    "The results are saved in the `databases` folder as `aggregated_x.csv`, where each `x` is a key of the dictionary `freq`."
   ]
  },
  {
   "cell_type": "code",
   "execution_count": 40,
   "id": "understanding-italian",
   "metadata": {},
   "outputs": [],
   "source": [
    "# Save the aggregated data as .csv files\n",
    "for r in results.keys():\n",
    "    results[r].to_csv(f'databases/aggregated_{r}.csv')"
   ]
  }
 ],
 "metadata": {
  "kernelspec": {
   "display_name": "Python 3",
   "language": "python",
   "name": "python3"
  },
  "language_info": {
   "codemirror_mode": {
    "name": "ipython",
    "version": 3
   },
   "file_extension": ".py",
   "mimetype": "text/x-python",
   "name": "python",
   "nbconvert_exporter": "python",
   "pygments_lexer": "ipython3",
   "version": "3.9.2"
  }
 },
 "nbformat": 4,
 "nbformat_minor": 5
}
