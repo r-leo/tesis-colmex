{
 "cells": [
  {
   "cell_type": "code",
   "execution_count": 3,
   "id": "indirect-respondent",
   "metadata": {},
   "outputs": [],
   "source": [
    "import pandas as pd\n",
    "import numpy as np\n",
    "import matplotlib.pyplot as plt\n",
    "from scipy.stats import shapiro, kstest, anderson\n",
    "\n",
    "# 'pub_quality' is a flag variable:\n",
    "# - If true, automatically exports all plots to PDF at 200 dpi.\n",
    "# - If false, all plots are displayed inline al 70 dpi.\n",
    "pub_quality = False\n",
    "\n",
    "if pub_quality:\n",
    "    plt.rcParams['figure.dpi']= 200\n",
    "else:\n",
    "    plt.rcParams['figure.dpi']= 70\n",
    "\n",
    "# Preferred style for the plotting engine\n",
    "plt.style.use('seaborn-talk')\n",
    "\n",
    "# Set a random seed\n",
    "np.random.seed(0)\n",
    "\n",
    "# Load databases\n",
    "data_us = pd.read_excel('databases/data_us.xlsx', engine = 'openpyxl')\n",
    "data_mx = pd.read_excel('databases/data_mx.xlsx', engine = 'openpyxl')"
   ]
  },
  {
   "cell_type": "code",
   "execution_count": 6,
   "id": "pointed-gross",
   "metadata": {},
   "outputs": [],
   "source": [
    "# Calculate inflation rate\n",
    "data_us['inflation'] = (data_us['price'] - data_us['price'].shift(1)) / data_us['price'].shift(1)\n",
    "data_mx['inflation'] = (data_mx['price'] - data_mx['price'].shift(1)) / data_mx['price'].shift(1)\n",
    "\n",
    "# Calculate real returns on the risky asset\n",
    "data_us['r'] = (1 + data_us['sp500']) / (1 + data_us['inflation'])\n",
    "data_mx['r'] = (1 + data_mx['ipc']) / (1 + data_mx['inflation'])\n",
    "\n",
    "# Calculate real returns on the riskfree asset\n",
    "data_us['rf'] = (1 + data_us['bond']) / (1 + data_us['inflation'])\n",
    "data_mx['rf'] = (1 + data_mx['cetes']) / (1 + data_mx['inflation'])\n",
    "\n",
    "# The risk premium is the difference beetween the return of the risky asset and the riskfree one\n",
    "data_us['risk_premium'] = data_us['r'] - data_us['rf']\n",
    "data_mx['risk_premium'] = data_mx['r'] - data_mx['rf']"
   ]
  },
  {
   "cell_type": "code",
   "execution_count": 13,
   "id": "changing-brother",
   "metadata": {},
   "outputs": [
    {
     "data": {
      "text/html": [
       "<div>\n",
       "<style scoped>\n",
       "    .dataframe tbody tr th:only-of-type {\n",
       "        vertical-align: middle;\n",
       "    }\n",
       "\n",
       "    .dataframe tbody tr th {\n",
       "        vertical-align: top;\n",
       "    }\n",
       "\n",
       "    .dataframe thead th {\n",
       "        text-align: right;\n",
       "    }\n",
       "</style>\n",
       "<table border=\"1\" class=\"dataframe\">\n",
       "  <thead>\n",
       "    <tr style=\"text-align: right;\">\n",
       "      <th></th>\n",
       "      <th>r</th>\n",
       "      <th>rf</th>\n",
       "      <th>risk_premium</th>\n",
       "    </tr>\n",
       "  </thead>\n",
       "  <tbody>\n",
       "    <tr>\n",
       "      <th>count</th>\n",
       "      <td>72.000000</td>\n",
       "      <td>72.000000</td>\n",
       "      <td>72.000000</td>\n",
       "    </tr>\n",
       "    <tr>\n",
       "      <th>mean</th>\n",
       "      <td>9.050630</td>\n",
       "      <td>2.193118</td>\n",
       "      <td>-93.142488</td>\n",
       "    </tr>\n",
       "    <tr>\n",
       "      <th>std</th>\n",
       "      <td>16.955085</td>\n",
       "      <td>8.425429</td>\n",
       "      <td>18.701105</td>\n",
       "    </tr>\n",
       "    <tr>\n",
       "      <th>min</th>\n",
       "      <td>-38.881637</td>\n",
       "      <td>-14.529931</td>\n",
       "      <td>-154.568247</td>\n",
       "    </tr>\n",
       "    <tr>\n",
       "      <th>25%</th>\n",
       "      <td>-1.159901</td>\n",
       "      <td>-2.721469</td>\n",
       "      <td>-105.402169</td>\n",
       "    </tr>\n",
       "    <tr>\n",
       "      <th>50%</th>\n",
       "      <td>11.370268</td>\n",
       "      <td>0.713620</td>\n",
       "      <td>-91.437372</td>\n",
       "    </tr>\n",
       "    <tr>\n",
       "      <th>75%</th>\n",
       "      <td>19.715364</td>\n",
       "      <td>7.493727</td>\n",
       "      <td>-81.549288</td>\n",
       "    </tr>\n",
       "    <tr>\n",
       "      <th>max</th>\n",
       "      <td>52.011053</td>\n",
       "      <td>25.105552</td>\n",
       "      <td>-50.907285</td>\n",
       "    </tr>\n",
       "  </tbody>\n",
       "</table>\n",
       "</div>"
      ],
      "text/plain": [
       "               r         rf  risk_premium\n",
       "count  72.000000  72.000000     72.000000\n",
       "mean    9.050630   2.193118    -93.142488\n",
       "std    16.955085   8.425429     18.701105\n",
       "min   -38.881637 -14.529931   -154.568247\n",
       "25%    -1.159901  -2.721469   -105.402169\n",
       "50%    11.370268   0.713620    -91.437372\n",
       "75%    19.715364   7.493727    -81.549288\n",
       "max    52.011053  25.105552    -50.907285"
      ]
     },
     "execution_count": 13,
     "metadata": {},
     "output_type": "execute_result"
    }
   ],
   "source": [
    "data_us[['r', 'rf']].apply(lambda x: (x-1)*100).describe()"
   ]
  },
  {
   "cell_type": "code",
   "execution_count": 16,
   "id": "electronic-choice",
   "metadata": {},
   "outputs": [
    {
     "data": {
      "text/plain": [
       "count    72.000000\n",
       "mean      6.857512\n",
       "std      18.701105\n",
       "min     -54.568247\n",
       "25%      -5.402169\n",
       "50%       8.562628\n",
       "75%      18.450712\n",
       "max      49.092715\n",
       "Name: risk_premium, dtype: float64"
      ]
     },
     "execution_count": 16,
     "metadata": {},
     "output_type": "execute_result"
    }
   ],
   "source": [
    "data_us['risk_premium'].apply(lambda x: x*100).describe()"
   ]
  },
  {
   "cell_type": "code",
   "execution_count": 12,
   "id": "afraid-jewel",
   "metadata": {},
   "outputs": [
    {
     "data": {
      "text/html": [
       "<div>\n",
       "<style scoped>\n",
       "    .dataframe tbody tr th:only-of-type {\n",
       "        vertical-align: middle;\n",
       "    }\n",
       "\n",
       "    .dataframe tbody tr th {\n",
       "        vertical-align: top;\n",
       "    }\n",
       "\n",
       "    .dataframe thead th {\n",
       "        text-align: right;\n",
       "    }\n",
       "</style>\n",
       "<table border=\"1\" class=\"dataframe\">\n",
       "  <thead>\n",
       "    <tr style=\"text-align: right;\">\n",
       "      <th></th>\n",
       "      <th>r</th>\n",
       "      <th>rf</th>\n",
       "    </tr>\n",
       "  </thead>\n",
       "  <tbody>\n",
       "    <tr>\n",
       "      <th>count</th>\n",
       "      <td>27.000000</td>\n",
       "      <td>27.000000</td>\n",
       "    </tr>\n",
       "    <tr>\n",
       "      <th>mean</th>\n",
       "      <td>5.337516</td>\n",
       "      <td>-3.183862</td>\n",
       "    </tr>\n",
       "    <tr>\n",
       "      <th>std</th>\n",
       "      <td>23.710468</td>\n",
       "      <td>39.008090</td>\n",
       "    </tr>\n",
       "    <tr>\n",
       "      <th>min</th>\n",
       "      <td>-34.683880</td>\n",
       "      <td>-65.317025</td>\n",
       "    </tr>\n",
       "    <tr>\n",
       "      <th>25%</th>\n",
       "      <td>-9.216798</td>\n",
       "      <td>-19.816766</td>\n",
       "    </tr>\n",
       "    <tr>\n",
       "      <th>50%</th>\n",
       "      <td>0.896147</td>\n",
       "      <td>-7.002898</td>\n",
       "    </tr>\n",
       "    <tr>\n",
       "      <th>75%</th>\n",
       "      <td>22.106785</td>\n",
       "      <td>7.707441</td>\n",
       "    </tr>\n",
       "    <tr>\n",
       "      <th>max</th>\n",
       "      <td>54.446951</td>\n",
       "      <td>94.570566</td>\n",
       "    </tr>\n",
       "  </tbody>\n",
       "</table>\n",
       "</div>"
      ],
      "text/plain": [
       "               r         rf\n",
       "count  27.000000  27.000000\n",
       "mean    5.337516  -3.183862\n",
       "std    23.710468  39.008090\n",
       "min   -34.683880 -65.317025\n",
       "25%    -9.216798 -19.816766\n",
       "50%     0.896147  -7.002898\n",
       "75%    22.106785   7.707441\n",
       "max    54.446951  94.570566"
      ]
     },
     "execution_count": 12,
     "metadata": {},
     "output_type": "execute_result"
    }
   ],
   "source": [
    "data_mx[['r', 'rf']].apply(lambda x: (x-1)*100).describe()"
   ]
  },
  {
   "cell_type": "code",
   "execution_count": 17,
   "id": "humanitarian-volleyball",
   "metadata": {},
   "outputs": [
    {
     "data": {
      "text/plain": [
       "count     27.000000\n",
       "mean       8.521378\n",
       "std       52.892067\n",
       "min     -107.936234\n",
       "25%      -20.407386\n",
       "50%       14.967803\n",
       "75%       44.111556\n",
       "max      112.528348\n",
       "Name: risk_premium, dtype: float64"
      ]
     },
     "execution_count": 17,
     "metadata": {},
     "output_type": "execute_result"
    }
   ],
   "source": [
    "data_mx['risk_premium'].apply(lambda x: x*100).describe()"
   ]
  },
  {
   "cell_type": "code",
   "execution_count": null,
   "id": "hawaiian-eight",
   "metadata": {},
   "outputs": [],
   "source": []
  }
 ],
 "metadata": {
  "kernelspec": {
   "display_name": "Python 3",
   "language": "python",
   "name": "python3"
  },
  "language_info": {
   "codemirror_mode": {
    "name": "ipython",
    "version": 3
   },
   "file_extension": ".py",
   "mimetype": "text/x-python",
   "name": "python",
   "nbconvert_exporter": "python",
   "pygments_lexer": "ipython3",
   "version": "3.9.2"
  }
 },
 "nbformat": 4,
 "nbformat_minor": 5
}
